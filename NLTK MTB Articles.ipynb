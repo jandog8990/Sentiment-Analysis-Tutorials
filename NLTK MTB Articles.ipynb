{
 "cells": [
  {
   "cell_type": "code",
   "execution_count": 1,
   "metadata": {},
   "outputs": [
    {
     "name": "stderr",
     "output_type": "stream",
     "text": [
      "[nltk_data] Downloading package punkt to\n",
      "[nltk_data]     /home/jandogonzales/nltk_data...\n",
      "[nltk_data]   Package punkt is already up-to-date!\n"
     ]
    },
    {
     "data": {
      "text/plain": [
       "True"
      ]
     },
     "execution_count": 1,
     "metadata": {},
     "output_type": "execute_result"
    }
   ],
   "source": [
    "from newspaper import Article\n",
    "import nltk\n",
    "nltk.download('punkt')"
   ]
  },
  {
   "cell_type": "code",
   "execution_count": 2,
   "metadata": {},
   "outputs": [
    {
     "name": "stdout",
     "output_type": "stream",
     "text": [
      "Article\n",
      "<newspaper.article.Article object at 0x7f4c5f8a9520>\n",
      "Article 2\n",
      "<newspaper.article.Article object at 0x7f4c5f8a9730>\n",
      "MTB Article\n",
      "<newspaper.article.Article object at 0x7f4c5f8a9910>\n"
     ]
    }
   ],
   "source": [
    "# Scrape the NYTimes for scraping article\n",
    "article = Article('https://www.nytimes.com/2020/05/10/us/ahmaud-arbery-georgia.html')\n",
    "print('Article')\n",
    "print(article)\n",
    "\n",
    "# decoding using specific language EN, ES\n",
    "article2 = Article('https://www.nytimes.com/2020/05/10/us/ahmaud-arbery-georgia.html', 'en')\n",
    "print('Article 2')\n",
    "print(article2)\n",
    "\n",
    "# MTB Project article\n",
    "mtb_article = Article('https://www.mtbproject.com/trail/285392/tunnel-otero-west-figure-8')\n",
    "print('MTB Article')\n",
    "print(mtb_article)"
   ]
  },
  {
   "cell_type": "code",
   "execution_count": 3,
   "metadata": {},
   "outputs": [],
   "source": [
    "# parse the articles using methods\n",
    "article.download()\n",
    "article.parse()\n",
    "\n",
    "# parse the mtb articles\n",
    "mtb_article.download()\n",
    "mtb_article.parse()"
   ]
  },
  {
   "cell_type": "code",
   "execution_count": 4,
   "metadata": {},
   "outputs": [
    {
     "data": {
      "text/plain": [
       "'A sweet singletrack ride in a pion forest, following ridges and canyons and contouring along hillsides. All the trails used on this ride offer their own challenges in the form of grinding climbs, ledges, baby heads, tight spots between trees and of course flowing banked corners and jumps.\\n\\n\\n\\nThis trail system can be busy on a nice weekend and it can be accessed by several different parking areas so what you see in the lot might not be representative of how many people will be out.\\n\\nThis ride butts up against the military withdrawal area of Kirtland Air Force Base. Be careful not to cross onto their land, it is posted poorly, almost as if they want you to make a mistake and end up in their domain.\\n\\nStart up the Tunnel Canyon Trail, which climbs gradually to start, then leads to some steeper bits and a ledge here or there. Make a turn through the bottom of the canyon and start to climb the other side more steeply. Once you make it through the steep grunt, things mellow out for the most part and you\\'ll climb gradually up to the junction with the West Ridge Trail.Turn right onto the West Ridge Trail and immediately start climbing again on loose terrain with nice, easy rounded ledges. It\\'s more important to hold the line than to be particularly good since if you are in the right place the traction is decent; however if you drift into the baby \"fists\" things can get ugly real quick.At the top of the climb there is a trail junction on the right, take note, this is where you willou\\'ll turn later. Once through the initial climb you are rewarded with fast smooth trail snaking through the trees and the occasional rock gardens, though nothing you can\\'t roll through. Next up is a winding baby head climb finished with some sharp bedded rock layers and ledges. More fast winding trail awaits above. Then a final steep loose climb with a couple of stair steps at the top finishes off the climbing on this section.On the next fast twisting section, keep your eyes peeled for the KAFB boundary and the HIDDEN sign, it is tucked in behind a tree, though there is some flagging on trees in the area and a couple of spots where rocks have been set on either side of the trail before you get there.Just before the KAFB boundary make a sharp left and enjoy the flowing downhill through the trees. There is almost no need to pedal through this section and there are numerous rocks to jump off or avoid, banked turns and even a log to ride. The trail eventually drops down into Otero Canyon Take a left on the Otero Canyon Trail and head downhill. This is one of the best trails in the Albuquerque area and offers a little of everything. The highlights are the 2 walls that you get to jump off of and the sweet banked turns down at the bottom. There are also rock gardens and jumps along the way as you dip into and out of and cross back and forth through the canyon. You willou\\'ll pass the Blue Ribbon Trail on your right and dip through the canyon from right to left and there will be a trail junction on the left, this is the tail end of the Tunnel Canyon Trail.Make a hard left and climb back up to the West Ridge Trail. The climb starts with a difficult hairpin with angled steps to make things more difficult. Steps and ledges is the name of the game on this climb. Some of the steps are quite large including one in the middle of the climb and one just before you reach the West Ridge . It is a fun exercise in riding steps and great for learning or improving.Now turn left and make the initial climb on the West Ridge Trail again, for some reason I typically do better the second time up. At the top of the climb you willou\\'ll make a very sharp turn to the right onto the Birdhouse Ridge Trail. This trail was cut in 2011 by FOO and the FS and is a great addition. It is mostly flat and downhill all the way back to the car from here.You willou\\'ll quickly come to a small burnt out area that offers a great view of the back side of the Sandia Mountains. From here things start to drop, lots of twists and turns and a few sections with rock ledges but nothing too technical. Eventually you really start to go down on an open hillside and have a couple of hairpins then a straight section with some more rocky bits followed by 2 more hairpins. Then the trail enters the trees again for the last twisting bit before you pop out onto the Tunnel Canyon Trail less than 100 yards from your car.'"
      ]
     },
     "execution_count": 4,
     "metadata": {},
     "output_type": "execute_result"
    }
   ],
   "source": [
    "article.html\n",
    "article.authors\n",
    "article.publish_date\n",
    "article.text\n",
    "\n",
    "# mtb article metadata\n",
    "mtb_article.html\n",
    "mtb_article.authors\n",
    "mtb_article.publish_date\n",
    "mtb_article.text"
   ]
  },
  {
   "cell_type": "code",
   "execution_count": 5,
   "metadata": {},
   "outputs": [
    {
     "name": "stdout",
     "output_type": "stream",
     "text": [
      "Token words:\n",
      "838\n",
      "Filter words:\n",
      "449\n"
     ]
    }
   ],
   "source": [
    "from nltk.tokenize import RegexpTokenizer\n",
    "from typing import List\n",
    "import nltk\n",
    "\n",
    "# mtb article text parsing\n",
    "mtb_text = mtb_article.text\n",
    "\n",
    "# tokenize words using NLTK tokenizer\n",
    "tokenizer = RegexpTokenizer(r'\\w+')\n",
    "tokenWords: List[str] = list(tokenizer.tokenize(mtb_text))\n",
    "print(\"Token words:\")\n",
    "# print(tokenWords)\n",
    "print(len(tokenWords))\n",
    "\n",
    "# stop words from the mtb text\n",
    "stopWords = nltk.corpus.stopwords.words(\"english\")\n",
    "filterWords = [w for w in tokenWords if w not in stopWords]\n",
    "print(\"Filter words:\")\n",
    "print(len(filterWords))"
   ]
  },
  {
   "cell_type": "code",
   "execution_count": 6,
   "metadata": {},
   "outputs": [
    {
     "name": "stdout",
     "output_type": "stream",
     "text": [
      "Filter words main:\n",
      " climb  Trail  trail   make  Ridge  right   left ledges  trees Canyon \n",
      "    12     10      9      6      6      6      6      5      5      5 \n",
      "Filter words lower:\n",
      " climb  Trail  trail   make  Ridge  right   left ledges  trees Canyon \n",
      "    12     10      9      6      6      6      6      5      5      5 \n"
     ]
    }
   ],
   "source": [
    "# freq dist for common words in the filtered words\n",
    "fd = nltk.FreqDist(filterWords)\n",
    "print(\"Filter words main:\")\n",
    "fd.most_common(10)\n",
    "fd.tabulate(10)\n",
    "\n",
    "# find freq dist of words outside of case\n",
    "lower_fd = nltk.FreqDist([w.lower() for w in filterWords])\n",
    "print(\"Filter words lower:\")\n",
    "fd.most_common(10)\n",
    "fd.tabulate(10)"
   ]
  },
  {
   "cell_type": "code",
   "execution_count": 7,
   "metadata": {},
   "outputs": [
    {
     "name": "stdout",
     "output_type": "stream",
     "text": [
      "MTB Tokenize using NLTK:\n",
      "<class 'list'>\n",
      "\n",
      "\n",
      "<class 'nltk.text.Text'>\n",
      "<Text: A sweet singletrack ride in a pion forest...>\n",
      "\n",
      "\n",
      "MTB NLTK Concordance:\n",
      "Displaying 5 of 17 matches:\n",
      "wing banked corners and jumps . This trail system can be busy on a nice weekend\n",
      " domain . Start up the Tunnel Canyon Trail , which climbs gradually to start , \n",
      "Trail.Turn right onto the West Ridge Trail and immediately start climbing again\n",
      "k.At the top of the climb there is a trail junction on the right , take note , \n",
      "mb you are rewarded with fast smooth trail snaking through the trees and the oc\n",
      "\n",
      "\n",
      "wing banked corners and jumps . This trail system can be busy on a nice weekend\n",
      "\n",
      "\n",
      " domain . Start up the Tunnel Canyon Trail , which climbs gradually to start , \n",
      "\n",
      "\n",
      "Trail.Turn right onto the West Ridge Trail and immediately start climbing again\n",
      "\n",
      "\n",
      "k.At the top of the climb there is a trail junction on the right , take note , \n",
      "\n",
      "\n",
      "mb you are rewarded with fast smooth trail snaking through the trees and the oc\n",
      "\n",
      "\n"
     ]
    }
   ],
   "source": [
    "# use concordance to see the relations between words, location/context\n",
    "# print(mtb_text)\n",
    "from pprint import pprint\n",
    "mtbTokenize = nltk.word_tokenize(mtb_text)\n",
    "print(\"MTB Tokenize using NLTK:\")\n",
    "print(type(mtbTokenize))\n",
    "print(\"\\n\")\n",
    "\n",
    "# put mtb text in nltk format\n",
    "mtbText = nltk.Text(mtbTokenize)\n",
    "print(type(mtbText))\n",
    "print(mtbText)\n",
    "print(\"\\n\")\n",
    "\n",
    "# use concordance to find locations and context of a word\n",
    "print(\"MTB NLTK Concordance:\")\n",
    "mtbText.concordance(\"trail\", lines=5)\n",
    "print(\"\\n\")\n",
    "\n",
    "# list of concordance words\n",
    "concordance_list = mtbText.concordance_list(\"trail\", lines=5)\n",
    "for entry in concordance_list:\n",
    "    print(entry.line)\n",
    "    print(\"\\n\")"
   ]
  },
  {
   "cell_type": "code",
   "execution_count": 8,
   "metadata": {},
   "outputs": [
    {
     "data": {
      "image/png": "[encoded data removed]",
      "text/plain": [
       "<Figure size 432x288 with 1 Axes>"
      ]
     },
     "metadata": {
      "needs_background": "light"
     },
     "output_type": "display_data"
    }
   ],
   "source": [
    "# collocations - series of words that frequently appear together in text\n",
    "\n",
    "# Dispersion plot of particular MTB words per article and how often they occur\n",
    "# Helps show what words are near each other in chrono order\n",
    "mtbText.dispersion_plot(\n",
    "    [\"trail\", \"rock\", \"corner\", \"jump\", \"fast\", \"climb\", \"steep\"]\n",
    ")"
   ]
  },
  {
   "cell_type": "code",
   "execution_count": 9,
   "metadata": {},
   "outputs": [
    {
     "name": "stdout",
     "output_type": "stream",
     "text": [
      "<FreqDist with 347 samples and 883 outcomes>\n"
     ]
    },
    {
     "data": {
      "text/plain": [
       "[('the', 69),\n",
       " ('and', 37),\n",
       " ('.', 29),\n",
       " ('a', 26),\n",
       " ('of', 22),\n",
       " (',', 20),\n",
       " ('to', 20),\n",
       " ('you', 16),\n",
       " ('is', 14),\n",
       " ('on', 13),\n",
       " ('climb', 12),\n",
       " ('in', 11),\n",
       " ('trail', 9),\n",
       " ('through', 9),\n",
       " ('with', 9),\n",
       " ('Trail', 8),\n",
       " ('up', 7),\n",
       " ('this', 6),\n",
       " ('be', 6),\n",
       " ('make', 6)]"
      ]
     },
     "execution_count": 9,
     "metadata": {},
     "output_type": "execute_result"
    }
   ],
   "source": [
    "# Frequency distribution for MTB Text\n",
    "from nltk import FreqDist\n",
    "frequency_distribution = FreqDist(mtbText)\n",
    "print(frequency_distribution)\n",
    "\n",
    "# find the X most common words in the mtb text\n",
    "X = 20\n",
    "frequency_distribution.most_common(20)"
   ]
  },
  {
   "cell_type": "code",
   "execution_count": 10,
   "metadata": {},
   "outputs": [
    {
     "name": "stderr",
     "output_type": "stream",
     "text": [
      "[nltk_data] Downloading package stopwords to\n",
      "[nltk_data]     /home/jandogonzales/nltk_data...\n",
      "[nltk_data]   Package stopwords is already up-to-date!\n"
     ]
    }
   ],
   "source": [
    "# let's tokenize the main MTB Text NTLK object and run filters\n",
    "nltk.download(\"stopwords\")\n",
    "from nltk.corpus import stopwords\n",
    "from nltk.tokenize import word_tokenize\n",
    "\n",
    "# create set of stop words to filter the text with\n",
    "stop_words = set(stopwords.words(\"english\"))\n",
    "mtbFilteredWords = [\n",
    "    word for word in mtbText if word.casefold() not in stop_words\n",
    "]\n"
   ]
  },
  {
   "cell_type": "code",
   "execution_count": 16,
   "metadata": {},
   "outputs": [
    {
     "name": "stdout",
     "output_type": "stream",
     "text": [
      "MTB Filtered Words:\n",
      "479\n",
      "Freq dist:\n",
      "<FreqDist with 267 samples and 479 outcomes>\n"
     ]
    },
    {
     "data": {
      "text/plain": [
       "[('.', 29),\n",
       " (',', 20),\n",
       " ('climb', 12),\n",
       " ('trail', 9),\n",
       " ('Trail', 8),\n",
       " ('make', 6),\n",
       " ('Ridge', 6),\n",
       " ('right', 6),\n",
       " ('left', 6),\n",
       " ('ledges', 5),\n",
       " ('trees', 5),\n",
       " ('Canyon', 5),\n",
       " ('start', 5),\n",
       " (\"'ll\", 5),\n",
       " ('West', 5),\n",
       " ('ride', 4),\n",
       " ('area', 4),\n",
       " ('onto', 4),\n",
       " ('turn', 4),\n",
       " ('things', 4)]"
      ]
     },
     "execution_count": 16,
     "metadata": {},
     "output_type": "execute_result"
    }
   ],
   "source": [
    "# let's run frequency distribution on filtered words\n",
    "print(\"MTB Filtered Words:\");\n",
    "print(len(mtbFilteredWords))\n",
    "\n",
    "# freq dist on the filtered words\n",
    "X = 20\n",
    "freqDist = FreqDist(mtbFilteredWords)\n",
    "print(\"Freq dist:\")\n",
    "print(freqDist)\n",
    "freqDist.most_common(X)"
   ]
  },
  {
   "cell_type": "code",
   "execution_count": 18,
   "metadata": {},
   "outputs": [
    {
     "name": "stdout",
     "output_type": "stream",
     "text": [
      "267\n",
      "['.', ',', 'climb', 'trail', 'Trail', 'make', 'Ridge', 'right', 'left', 'ledges', 'trees', 'Canyon', 'start', \"'ll\", 'West', 'ride', 'area', 'onto', 'turn', 'things', 'willou', 'rock', 'steps', 'back', 'baby', 'banked', 'Tunnel', 'canyon', 'side', 'junction', 'get', 'top', 'fast', 'sharp', 'couple', 'section', 'downhill', 'turns', 'one', 'great', 'sweet', 'along', 'trails', 'climbs', 'spots', 'flowing', 'jumps', 'nice', 'cross', 'almost', 'end', 'gradually', 'bits', 'bottom', 'steep', 'climbing', 'loose', 'initial', 'gardens', 'though', 'nothing', 'winding', 'head', 'twisting', 'KAFB', 'boundary', 'rocks', 'jump', 'Otero', 'offers', '2', 'way', 'dip', 'difficult', 'car', 'hairpins', 'singletrack', 'pion', 'forest', 'following', 'ridges', 'canyons', 'contouring', 'hillsides', 'used', 'offer', 'challenges', 'form', 'grinding', 'heads', 'tight', 'course', 'corners', 'system', 'busy', 'weekend', 'accessed', 'several', 'different', 'parking', 'areas', 'see', 'lot', 'might', 'representative', 'many', 'people', 'butts', 'military', 'withdrawal', 'Kirtland', 'Air', 'Force', 'Base', 'careful', 'land', 'posted', 'poorly', 'want', 'mistake', 'domain', 'Start', 'leads', 'steeper', 'ledge', 'Make', 'steeply', 'grunt', 'mellow', 'part', 'Trail.Turn', 'immediately', 'terrain', 'easy', 'rounded', \"'s\", 'important', 'hold', 'line', 'particularly', 'good', 'since', 'place', 'traction', 'decent', ';', 'however', 'drift', '``', 'fists', \"''\", 'ugly', 'real', 'quick.At', 'take', 'note', 'later', 'rewarded', 'smooth', 'snaking', 'occasional', 'ca', \"n't\", 'roll', 'Next', 'finished', 'bedded', 'layers', 'awaits', 'final', 'stair', 'finishes', 'section.On', 'next', 'keep', 'eyes', 'peeled', 'HIDDEN', 'sign', 'tucked', 'behind', 'tree', 'flagging', 'set', 'either', 'there.Just', 'enjoy', 'need', 'pedal', 'numerous', 'avoid', 'even', 'log', 'eventually', 'drops', 'Take', 'best', 'Albuquerque', 'little', 'everything', 'highlights', 'walls', 'also', 'forth', 'pass', 'Blue', 'Ribbon', 'tail', 'Trail.Make', 'hard', 'starts', 'hairpin', 'angled', 'Steps', 'name', 'game', 'quite', 'large', 'including', 'middle', 'reach', 'fun', 'exercise', 'riding', 'learning', 'improving.Now', 'reason', 'typically', 'better', 'second', 'time', 'Birdhouse', 'cut', '2011', 'FOO', 'FS', 'addition', 'mostly', 'flat', 'here.You', 'quickly', 'come', 'small', 'burnt', 'view', 'Sandia', 'Mountains', 'drop', 'lots', 'twists', 'sections', 'technical', 'Eventually', 'really', 'go', 'open', 'hillside', 'straight', 'rocky', 'followed', 'enters', 'last', 'bit', 'pop', 'less', '100', 'yards']\n"
     ]
    }
   ],
   "source": [
    "# create feature vector slice for analysis\n",
    "feature_vector = list(freqDist)\n",
    "print(len(feature_vector))\n",
    "print(feature_vector)"
   ]
  },
  {
   "cell_type": "code",
   "execution_count": 12,
   "metadata": {},
   "outputs": [
    {
     "data": {
      "image/png": "[encoded data removed]",
      "text/plain": [
       "<Figure size 432x288 with 1 Axes>"
      ]
     },
     "metadata": {
      "needs_background": "light"
     },
     "output_type": "display_data"
    },
    {
     "data": {
      "text/plain": [
       "<AxesSubplot:xlabel='Samples', ylabel='Cumulative Counts'>"
      ]
     },
     "execution_count": 12,
     "metadata": {},
     "output_type": "execute_result"
    }
   ],
   "source": [
    "# frequency dist plot from text\n",
    "freqDist.plot(X, cumulative=True)"
   ]
  },
  {
   "cell_type": "code",
   "execution_count": 13,
   "metadata": {},
   "outputs": [
    {
     "name": "stdout",
     "output_type": "stream",
     "text": [
      "West Ridge; willou 'll; Tunnel Canyon; Ridge Trail; KAFB boundary;\n",
      "rock gardens; Canyon Trail; Otero Canyon; banked turns; initial climb;\n",
      "right onto; trail junction\n"
     ]
    }
   ],
   "source": [
    "# Collocations - sequence of words that juxtapose each other\n",
    "# and that also show up often in particular text\n",
    "# Examples of collocations that use the word \"tree\":\n",
    "# 1. Syntax tree\n",
    "# 2. Family tree\n",
    "# 3. Decision tree\n",
    "mtbText.collocations()"
   ]
  },
  {
   "cell_type": "code",
   "execution_count": 14,
   "metadata": {},
   "outputs": [
    {
     "name": "stdout",
     "output_type": "stream",
     "text": [
      "['A', 'sweet', 'singletrack', 'ride', 'in', 'a', 'pion', 'forest', ',', 'following', 'ridge', 'and', 'canyon', 'and', 'contouring', 'along', 'hillside', '.', 'All', 'the', 'trail', 'used', 'on', 'this', 'ride', 'offer', 'their', 'own', 'challenge', 'in', 'the', 'form', 'of', 'grinding', 'climb', ',', 'ledge', ',', 'baby', 'head', ',', 'tight', 'spot', 'between', 'tree', 'and', 'of', 'course', 'flowing', 'banked', 'corner', 'and', 'jump', '.', 'This', 'trail', 'system', 'can', 'be', 'busy', 'on', 'a', 'nice', 'weekend', 'and', 'it', 'can', 'be', 'accessed', 'by', 'several', 'different', 'parking', 'area', 'so', 'what', 'you', 'see', 'in', 'the', 'lot', 'might', 'not', 'be', 'representative', 'of', 'how', 'many', 'people', 'will', 'be', 'out', '.', 'This', 'ride', 'butt', 'up', 'against', 'the', 'military', 'withdrawal', 'area', 'of', 'Kirtland', 'Air', 'Force', 'Base', '.', 'Be', 'careful', 'not', 'to', 'cross', 'onto', 'their', 'land', ',', 'it', 'is', 'posted', 'poorly', ',', 'almost', 'a', 'if', 'they', 'want', 'you', 'to', 'make', 'a', 'mistake', 'and', 'end', 'up', 'in', 'their', 'domain', '.', 'Start', 'up', 'the', 'Tunnel', 'Canyon', 'Trail', ',', 'which', 'climb', 'gradually', 'to', 'start', ',', 'then', 'lead', 'to', 'some', 'steeper', 'bit', 'and', 'a', 'ledge', 'here', 'or', 'there', '.', 'Make', 'a', 'turn', 'through', 'the', 'bottom', 'of', 'the', 'canyon', 'and', 'start', 'to', 'climb', 'the', 'other', 'side', 'more', 'steeply', '.', 'Once', 'you', 'make', 'it', 'through', 'the', 'steep', 'grunt', ',', 'thing', 'mellow', 'out', 'for', 'the', 'most', 'part', 'and', 'you', \"'ll\", 'climb', 'gradually', 'up', 'to', 'the', 'junction', 'with', 'the', 'West', 'Ridge', 'Trail.Turn', 'right', 'onto', 'the', 'West', 'Ridge', 'Trail', 'and', 'immediately', 'start', 'climbing', 'again', 'on', 'loose', 'terrain', 'with', 'nice', ',', 'easy', 'rounded', 'ledge', '.', 'It', \"'s\", 'more', 'important', 'to', 'hold', 'the', 'line', 'than', 'to', 'be', 'particularly', 'good', 'since', 'if', 'you', 'are', 'in', 'the', 'right', 'place', 'the', 'traction', 'is', 'decent', ';', 'however', 'if', 'you', 'drift', 'into', 'the', 'baby', '``', 'fist', \"''\", 'thing', 'can', 'get', 'ugly', 'real', 'quick.At', 'the', 'top', 'of', 'the', 'climb', 'there', 'is', 'a', 'trail', 'junction', 'on', 'the', 'right', ',', 'take', 'note', ',', 'this', 'is', 'where', 'you', 'willou', \"'ll\", 'turn', 'later', '.', 'Once', 'through', 'the', 'initial', 'climb', 'you', 'are', 'rewarded', 'with', 'fast', 'smooth', 'trail', 'snaking', 'through', 'the', 'tree', 'and', 'the', 'occasional', 'rock', 'garden', ',', 'though', 'nothing', 'you', 'ca', \"n't\", 'roll', 'through', '.', 'Next', 'up', 'is', 'a', 'winding', 'baby', 'head', 'climb', 'finished', 'with', 'some', 'sharp', 'bedded', 'rock', 'layer', 'and', 'ledge', '.', 'More', 'fast', 'winding', 'trail', 'awaits', 'above', '.', 'Then', 'a', 'final', 'steep', 'loose', 'climb', 'with', 'a', 'couple', 'of', 'stair', 'step', 'at', 'the', 'top', 'finish', 'off', 'the', 'climbing', 'on', 'this', 'section.On', 'the', 'next', 'fast', 'twisting', 'section', ',', 'keep', 'your', 'eye', 'peeled', 'for', 'the', 'KAFB', 'boundary', 'and', 'the', 'HIDDEN', 'sign', ',', 'it', 'is', 'tucked', 'in', 'behind', 'a', 'tree', ',', 'though', 'there', 'is', 'some', 'flagging', 'on', 'tree', 'in', 'the', 'area', 'and', 'a', 'couple', 'of', 'spot', 'where', 'rock', 'have', 'been', 'set', 'on', 'either', 'side', 'of', 'the', 'trail', 'before', 'you', 'get', 'there.Just', 'before', 'the', 'KAFB', 'boundary', 'make', 'a', 'sharp', 'left', 'and', 'enjoy', 'the', 'flowing', 'downhill', 'through', 'the', 'tree', '.', 'There', 'is', 'almost', 'no', 'need', 'to', 'pedal', 'through', 'this', 'section', 'and', 'there', 'are', 'numerous', 'rock', 'to', 'jump', 'off', 'or', 'avoid', ',', 'banked', 'turn', 'and', 'even', 'a', 'log', 'to', 'ride', '.', 'The', 'trail', 'eventually', 'drop', 'down', 'into', 'Otero', 'Canyon', 'Take', 'a', 'left', 'on', 'the', 'Otero', 'Canyon', 'Trail', 'and', 'head', 'downhill', '.', 'This', 'is', 'one', 'of', 'the', 'best', 'trail', 'in', 'the', 'Albuquerque', 'area', 'and', 'offer', 'a', 'little', 'of', 'everything', '.', 'The', 'highlight', 'are', 'the', '2', 'wall', 'that', 'you', 'get', 'to', 'jump', 'off', 'of', 'and', 'the', 'sweet', 'banked', 'turn', 'down', 'at', 'the', 'bottom', '.', 'There', 'are', 'also', 'rock', 'garden', 'and', 'jump', 'along', 'the', 'way', 'a', 'you', 'dip', 'into', 'and', 'out', 'of', 'and', 'cross', 'back', 'and', 'forth', 'through', 'the', 'canyon', '.', 'You', 'willou', \"'ll\", 'pas', 'the', 'Blue', 'Ribbon', 'Trail', 'on', 'your', 'right', 'and', 'dip', 'through', 'the', 'canyon', 'from', 'right', 'to', 'left', 'and', 'there', 'will', 'be', 'a', 'trail', 'junction', 'on', 'the', 'left', ',', 'this', 'is', 'the', 'tail', 'end', 'of', 'the', 'Tunnel', 'Canyon', 'Trail.Make', 'a', 'hard', 'left', 'and', 'climb', 'back', 'up', 'to', 'the', 'West', 'Ridge', 'Trail', '.', 'The', 'climb', 'start', 'with', 'a', 'difficult', 'hairpin', 'with', 'angled', 'step', 'to', 'make', 'thing', 'more', 'difficult', '.', 'Steps', 'and', 'ledge', 'is', 'the', 'name', 'of', 'the', 'game', 'on', 'this', 'climb', '.', 'Some', 'of', 'the', 'step', 'are', 'quite', 'large', 'including', 'one', 'in', 'the', 'middle', 'of', 'the', 'climb', 'and', 'one', 'just', 'before', 'you', 'reach', 'the', 'West', 'Ridge', '.', 'It', 'is', 'a', 'fun', 'exercise', 'in', 'riding', 'step', 'and', 'great', 'for', 'learning', 'or', 'improving.Now', 'turn', 'left', 'and', 'make', 'the', 'initial', 'climb', 'on', 'the', 'West', 'Ridge', 'Trail', 'again', ',', 'for', 'some', 'reason', 'I', 'typically', 'do', 'better', 'the', 'second', 'time', 'up', '.', 'At', 'the', 'top', 'of', 'the', 'climb', 'you', 'willou', \"'ll\", 'make', 'a', 'very', 'sharp', 'turn', 'to', 'the', 'right', 'onto', 'the', 'Birdhouse', 'Ridge', 'Trail', '.', 'This', 'trail', 'wa', 'cut', 'in', '2011', 'by', 'FOO', 'and', 'the', 'FS', 'and', 'is', 'a', 'great', 'addition', '.', 'It', 'is', 'mostly', 'flat', 'and', 'downhill', 'all', 'the', 'way', 'back', 'to', 'the', 'car', 'from', 'here.You', 'willou', \"'ll\", 'quickly', 'come', 'to', 'a', 'small', 'burnt', 'out', 'area', 'that', 'offer', 'a', 'great', 'view', 'of', 'the', 'back', 'side', 'of', 'the', 'Sandia', 'Mountains', '.', 'From', 'here', 'thing', 'start', 'to', 'drop', ',', 'lot', 'of', 'twist', 'and', 'turn', 'and', 'a', 'few', 'section', 'with', 'rock', 'ledge', 'but', 'nothing', 'too', 'technical', '.', 'Eventually', 'you', 'really', 'start', 'to', 'go', 'down', 'on', 'an', 'open', 'hillside', 'and', 'have', 'a', 'couple', 'of', 'hairpin', 'then', 'a', 'straight', 'section', 'with', 'some', 'more', 'rocky', 'bit', 'followed', 'by', '2', 'more', 'hairpin', '.', 'Then', 'the', 'trail', 'enters', 'the', 'tree', 'again', 'for', 'the', 'last', 'twisting', 'bit', 'before', 'you', 'pop', 'out', 'onto', 'the', 'Tunnel', 'Canyon', 'Trail', 'le', 'than', '100', 'yard', 'from', 'your', 'car', '.']\n"
     ]
    }
   ],
   "source": [
    "# Lemmatization - process of grouping words with different inflected forms\n",
    "# of a word so they can be analyzed together. Brings context.\n",
    "from nltk.stem import WordNetLemmatizer\n",
    "lemmatizer = WordNetLemmatizer()\n",
    "lemmatized_words = [lemmatizer.lemmatize(word) for word in mtbText]\n",
    "print(lemmatized_words)"
   ]
  },
  {
   "cell_type": "code",
   "execution_count": 15,
   "metadata": {},
   "outputs": [
    {
     "name": "stdout",
     "output_type": "stream",
     "text": [
      "West Ridge; willou 'll; Tunnel Canyon; Ridge Trail; KAFB boundary;\n",
      "Canyon Trail; Otero Canyon; baby head; rock garden; climb gradually;\n",
      "initial climb; banked turn; right onto; trail junction\n"
     ]
    }
   ],
   "source": [
    "# create new NLTK Text using lemmatized words\n",
    "new_mtb_text = nltk.Text(lemmatized_words)\n",
    "\n",
    "# new collocations on lemmatized words\n",
    "new_mtb_text.collocations()\n",
    "\n",
    "# New lemmas brought up new collocations\n",
    "# 1. baby head - baby head rocks\n",
    "# 2. rock garden - common mtb term\n",
    "\n",
    "# This is how we find most common word combos to see what\n",
    "# people are talking about and how they talk about it"
   ]
  },
  {
   "cell_type": "code",
   "execution_count": 6,
   "metadata": {},
   "outputs": [
    {
     "data": {
      "text/plain": [
       "\"Start up the Tunnel Canyon Trail, which climbs gradually to start, then leads to some steeper bits and a ledge here or there.\\nThe trail eventually drops down into Otero Canyon Take a left on the Otero Canyon Trail and head downhill.\\nSome of the steps are quite large including one in the middle of the climb and one just before you reach the West Ridge .\\nAt the top of the climb you willou'll make a very sharp turn to the right onto the Birdhouse Ridge Trail.\\nThen the trail enters the trees again for the last twisting bit before you pop out onto the Tunnel Canyon Trail less than 100 yards from your car.\""
      ]
     },
     "execution_count": 6,
     "metadata": {},
     "output_type": "execute_result"
    }
   ],
   "source": [
    "# article NYTimes NLP\n",
    "article.nlp()\n",
    "article.summary\n",
    "\n",
    "# MTB article NLP\n",
    "mtb_article.nlp()\n",
    "mtb_article.summary"
   ]
  },
  {
   "cell_type": "code",
   "execution_count": 7,
   "metadata": {},
   "outputs": [
    {
     "data": {
      "text/plain": [
       "['canyon',\n",
       " 'climb',\n",
       " 'bike',\n",
       " 'right',\n",
       " 'trail',\n",
       " 'ridge',\n",
       " 'steps',\n",
       " 'start',\n",
       " 'trees',\n",
       " 'figure',\n",
       " 'mexico',\n",
       " 'carnuel',\n",
       " 'left',\n",
       " 'tunnel',\n",
       " 'west',\n",
       " 'mountain',\n",
       " 'otero']"
      ]
     },
     "execution_count": 7,
     "metadata": {},
     "output_type": "execute_result"
    }
   ],
   "source": [
    "# article keywords from NLP\n",
    "article.keywords\n",
    "mtb_article.keywords"
   ]
  },
  {
   "cell_type": "code",
   "execution_count": 12,
   "metadata": {},
   "outputs": [
    {
     "data": {
      "text/plain": [
       "['Lakers',\n",
       " 'Arsenal',\n",
       " 'Vida Blue',\n",
       " 'Ed Sheeran',\n",
       " 'James Harden',\n",
       " 'West Ham vs Man United',\n",
       " 'Anthony Davis',\n",
       " 'Wyndham Clark',\n",
       " \"D'Angelo Russell\",\n",
       " 'Stephen Curry',\n",
       " 'Klay Thompson',\n",
       " 'Patrick Mahomes',\n",
       " 'Troyes  PSG',\n",
       " 'John Hao',\n",
       " 'Elizabeth Holmes',\n",
       " \"Sean O'Malley\",\n",
       " 'Nashville weather',\n",
       " 'Boxing',\n",
       " 'Golden Knights',\n",
       " 'Allen, Texas']"
      ]
     },
     "execution_count": 12,
     "metadata": {},
     "output_type": "execute_result"
    }
   ],
   "source": [
    "# Easter eggs\n",
    "# hot() - returns a list of top trending terms on Goole using API\n",
    "# popular_urls() - returns list of popular news source urls\n",
    "import newspaper\n",
    "newspaper.hot()"
   ]
  },
  {
   "cell_type": "code",
   "execution_count": 13,
   "metadata": {},
   "outputs": [
    {
     "data": {
      "text/plain": [
       "['http://www.huffingtonpost.com',\n",
       " 'http://cnn.com',\n",
       " 'http://www.time.com',\n",
       " 'http://www.ted.com',\n",
       " 'http://pandodaily.com',\n",
       " 'http://www.cnbc.com',\n",
       " 'http://www.mlb.com',\n",
       " 'http://www.pcmag.com',\n",
       " 'http://www.foxnews.com',\n",
       " 'http://theatlantic.com',\n",
       " 'http://www.bbc.co.uk',\n",
       " 'http://www.vice.com',\n",
       " 'http://www.elle.com',\n",
       " 'http://www.vh1.com',\n",
       " 'http://espnf1.com',\n",
       " 'http://espn.com',\n",
       " 'http://www.npr.org',\n",
       " 'http://www.sfgate.com',\n",
       " 'http://www.glamour.com',\n",
       " 'http://www.whosdatedwho.com',\n",
       " 'http://kotaku.com',\n",
       " 'http://thebostonchannel.com',\n",
       " 'http://www.suntimes.com',\n",
       " 'http://www.businessinsider.com',\n",
       " 'http://www.rivals.com',\n",
       " 'http://thebusinessjournal.com',\n",
       " 'http://www.newrepublic.com',\n",
       " 'http://allthingsd.com',\n",
       " 'http://www.topgear.com',\n",
       " 'http://thecitizen.com',\n",
       " 'http://www.ign.com',\n",
       " 'http://www.sci-news.com',\n",
       " 'http://www.morningstar.com',\n",
       " 'http://www.variety.com',\n",
       " 'http://thebottomline.as.ucsb.edu',\n",
       " 'http://www.gamefaqs.com',\n",
       " 'http://blog.searchenginewatch.com',\n",
       " 'http://thedailyfairfield.com',\n",
       " 'http://www.solarnovus.com',\n",
       " 'http://medicalxpress.com',\n",
       " 'http://www.news.com.au',\n",
       " 'http://www.health.com',\n",
       " 'http://www.computerandvideogames.com',\n",
       " 'http://wsj.com',\n",
       " 'http://www.allure.com',\n",
       " 'http://www.theinsider.com',\n",
       " 'http://cnet.com',\n",
       " 'http://venturebeat.com',\n",
       " 'http://www.topspeed.com',\n",
       " 'http://thedailyworld.com',\n",
       " 'http://games.com',\n",
       " 'http://www.religionnews.com',\n",
       " 'http://blogs.berkeley.edu',\n",
       " 'http://www.sbnation.com',\n",
       " 'http://www.polygon.com',\n",
       " 'http://nytimes.com',\n",
       " 'http://www.thefrisky.com',\n",
       " 'http://telegram.com',\n",
       " 'http://yahoo.com',\n",
       " 'http://www.nbcnews.com',\n",
       " 'http://thedailypage.com',\n",
       " 'http://www.popsci.com',\n",
       " 'http://www.pbs.org',\n",
       " 'http://www.nasa.gov',\n",
       " 'http://www.guardiannews.com',\n",
       " 'http://www.weather.com',\n",
       " 'http://www.gq.com',\n",
       " 'http://www.etonline.com',\n",
       " 'http://telegraph.co.uk',\n",
       " 'http://www.fastcompany.com',\n",
       " 'http://www.infoworld.com',\n",
       " 'http://www.wired.com',\n",
       " 'http://www.pcgamer.com',\n",
       " 'http://sportingnews.com',\n",
       " 'http://theatlanticwire.com',\n",
       " 'http://thecarconnection.com',\n",
       " 'http://www.sun-sentinel.com',\n",
       " 'http://autoblog.com',\n",
       " 'http://www.environmentalleader.com',\n",
       " 'http://thecrimson.com',\n",
       " 'http://thecypresstimes.com',\n",
       " 'http://www.dailyfinance.com',\n",
       " 'http://www.politico.com',\n",
       " 'http://newsroom.fb.com',\n",
       " 'http://news.ycombinator.com',\n",
       " 'http://lifehacker.com',\n",
       " 'http://www.bet.com',\n",
       " 'http://independent.co.uk',\n",
       " 'http://www.mlssoccer.com',\n",
       " 'http://www.bodybuilding.com',\n",
       " 'http://www.cosmopolitan.com',\n",
       " 'http://www.apple.com',\n",
       " 'http://www.autonews.com',\n",
       " 'http://www.eonline.com',\n",
       " 'http://www.vanityfair.com',\n",
       " 'http://techdigest.tv',\n",
       " 'http://www.maximumpc.com',\n",
       " 'http://www.techradar.com',\n",
       " 'http://thedailyjournal.com',\n",
       " 'http://www.mlive.com',\n",
       " 'http://techworld.com.au',\n",
       " 'http://www.techmeme.com',\n",
       " 'http://thedailynewsegypt.com',\n",
       " 'http://thedailygrind.com.au',\n",
       " 'http://techcrunch.com',\n",
       " 'http://tehrantimes.com',\n",
       " 'http://www.hollywoodreporter.com',\n",
       " 'http://thedailysound.com',\n",
       " 'http://www.stltoday.com',\n",
       " 'http://deadspin.com',\n",
       " 'http://www.digitaltrends.com',\n",
       " 'http://seattletimes.com',\n",
       " 'http://seattlepi.com',\n",
       " 'http://www.cleveland.com',\n",
       " 'http://heritage.org',\n",
       " 'http://www.today.com',\n",
       " 'http://www.politifact.com',\n",
       " 'http://zdnet.com',\n",
       " 'http://www.nationalenquirer.com',\n",
       " 'http://egotastic.com',\n",
       " 'http://blogs.creativeloafing.com',\n",
       " 'http://townhall.com',\n",
       " 'http://www.eweek.com',\n",
       " 'http://www.vogue.co.uk',\n",
       " 'http://www.teenvogue.com',\n",
       " 'http://www.nypost.com',\n",
       " 'http://www.reuters.com',\n",
       " 'http://www.scientificamerican.com',\n",
       " 'http://www.miamiherald.com',\n",
       " 'http://www.nydailynews.com',\n",
       " 'http://www.newscientist.com',\n",
       " 'http://bigstory.ap.org',\n",
       " 'http://www.ebony.com',\n",
       " 'http://thedailystar.com',\n",
       " 'http://www.technologyreview.com',\n",
       " 'http://www.theverge.com',\n",
       " 'http://www.nba.com',\n",
       " 'http://www.cbssports.com',\n",
       " 'http://betabeat.com',\n",
       " 'http://www.tmz.com',\n",
       " 'http://tcnewsnet.com',\n",
       " 'http://www.latimes.com',\n",
       " 'http://www.c-span.org',\n",
       " 'http://www.style.com',\n",
       " 'http://www.peoplestylewatch.com',\n",
       " 'http://theboot.com',\n",
       " 'http://www.foxbusiness.com',\n",
       " 'http://www.pcworld.com',\n",
       " 'http://washingtontimes.com',\n",
       " 'http://thedailyreview.com',\n",
       " 'http://www.nfl.com',\n",
       " 'http://www.space.com',\n",
       " 'http://washingtontechnology.com',\n",
       " 'http://www.buzzfeed.com',\n",
       " 'http://inquirer.net',\n",
       " 'http://www.maxim.com',\n",
       " 'http://abcnews.com',\n",
       " 'http://www.extremetech.com',\n",
       " 'http://thedailytimes.com',\n",
       " 'http://mashable.com',\n",
       " 'http://washingtonexaminer.com',\n",
       " 'http://www.bhg.com',\n",
       " 'http://tech.mit.edu',\n",
       " 'http://hotair.com',\n",
       " 'http://www.1up.com',\n",
       " 'http://www.cbc.ca',\n",
       " 'http://gawker.com',\n",
       " 'http://celebuzz.com',\n",
       " 'http://sciencemag.org',\n",
       " 'http://www.rollingstone.com',\n",
       " 'http://slashdot.org',\n",
       " 'http://www.slate.com',\n",
       " 'http://bleacherreport.com',\n",
       " 'http://www.nascar.com',\n",
       " 'http://www.forbes.com',\n",
       " 'http://washingtonpost.com',\n",
       " 'http://nymag.com',\n",
       " 'http://www.microsoft.com',\n",
       " 'http://hbr.org',\n",
       " 'http://www.ft.com',\n",
       " 'http://www.dailymail.co.uk',\n",
       " 'http://www.theautochannel.com',\n",
       " 'http://g4tv.com',\n",
       " 'http://www.aljazeera.com',\n",
       " 'http://politicker.com',\n",
       " 'http://nbcsports.nbc.com',\n",
       " 'http://www.gamespot.com',\n",
       " 'http://news.sky.com',\n",
       " 'http://www.joystiq.com',\n",
       " 'http://www.escapistmagazine.com',\n",
       " 'http://www.thestreet.com',\n",
       " 'http://www.ew.com',\n",
       " 'http://www.nj.com',\n",
       " 'http://msn.com',\n",
       " 'http://thedailyreporter.com',\n",
       " 'http://www.economist.com',\n",
       " 'http://phys.org',\n",
       " 'http://www.glam.com',\n",
       " 'http://perezhilton.com',\n",
       " 'http://www.usmagazine.com',\n",
       " 'http://aol.com',\n",
       " 'http://www.cbsnews.com',\n",
       " 'http://www.tennis.com',\n",
       " 'http://washingtonian.com',\n",
       " 'http://www.sciencedaily.com',\n",
       " 'http://foxsports.com',\n",
       " 'http://www.popularmechanics.com',\n",
       " 'http://www.macworld.com',\n",
       " 'http://thinkprogress.org',\n",
       " 'http://www.mtv.com',\n",
       " 'http://discovery.com',\n",
       " 'http://www.people.com',\n",
       " 'http://thedailybeast.com',\n",
       " 'http://www.hollywood.com',\n",
       " 'http://medium.com',\n",
       " 'http://www.engadget.com',\n",
       " 'http://www.usnews.com',\n",
       " 'http://www.billboard.com',\n",
       " 'http://nationalgeographic.com',\n",
       " 'http://www.purseblog.com',\n",
       " 'http://www.giantbomb.com',\n",
       " 'http://www.automobilemag.com',\n",
       " 'http://thechronicle.com.au',\n",
       " 'http://tbnweekly.com',\n",
       " 'http://techreport.com',\n",
       " 'http://thedailyfix.com',\n",
       " 'http://www.animenewsnetwork.com',\n",
       " 'http://www.realclearpolitics.com',\n",
       " 'http://usatoday.com',\n",
       " 'http://www.techspot.com',\n",
       " 'http://discovermagazine.com',\n",
       " 'http://arstechnica.com',\n",
       " 'http://foreignpolicy.com',\n",
       " 'http://www.redstate.com',\n",
       " 'http://www.marketwatch.com',\n",
       " 'http://www.eurogamer.net',\n",
       " 'http://cbn.com',\n",
       " 'http://www.parade.com',\n",
       " 'http://www.bbcamerica.com',\n",
       " 'http://washingtonindependent.com',\n",
       " 'http://drudgereport.com',\n",
       " 'http://beta.na.leagueoflegends.com']"
      ]
     },
     "execution_count": 13,
     "metadata": {},
     "output_type": "execute_result"
    }
   ],
   "source": [
    "newspaper.popular_urls()"
   ]
  },
  {
   "cell_type": "markdown",
   "metadata": {},
   "source": [
    "mtb_article.keywords()"
   ]
  },
  {
   "cell_type": "code",
   "execution_count": 15,
   "metadata": {},
   "outputs": [
    {
     "data": {
      "text/plain": [
       "['canyon',\n",
       " 'climb',\n",
       " 'bike',\n",
       " 'right',\n",
       " 'trail',\n",
       " 'ridge',\n",
       " 'steps',\n",
       " 'start',\n",
       " 'trees',\n",
       " 'figure',\n",
       " 'mexico',\n",
       " 'carnuel',\n",
       " 'left',\n",
       " 'tunnel',\n",
       " 'west',\n",
       " 'mountain',\n",
       " 'otero']"
      ]
     },
     "execution_count": 15,
     "metadata": {},
     "output_type": "execute_result"
    }
   ],
   "source": [
    "mtb_article.keywords"
   ]
  },
  {
   "cell_type": "code",
   "execution_count": 16,
   "metadata": {},
   "outputs": [],
   "source": [
    "trailforks = Article('https://www.trailforks.com/region/albuquerque/trails/')"
   ]
  },
  {
   "cell_type": "code",
   "execution_count": 17,
   "metadata": {},
   "outputs": [
    {
     "ename": "ArticleException",
     "evalue": "Article `download()` failed with 403 Client Error: Forbidden for url: https://www.trailforks.com/region/albuquerque/trails/ on URL https://www.trailforks.com/region/albuquerque/trails/",
     "output_type": "error",
     "traceback": [
      "\u001b[0;31m---------------------------------------------------------------------------\u001b[0m",
      "\u001b[0;31mArticleException\u001b[0m                          Traceback (most recent call last)",
      "\u001b[0;32m<ipython-input-17-4dc82e15086d>\u001b[0m in \u001b[0;36m<module>\u001b[0;34m\u001b[0m\n\u001b[1;32m      1\u001b[0m \u001b[0mtrailforks\u001b[0m\u001b[0;34m.\u001b[0m\u001b[0mdownload\u001b[0m\u001b[0;34m(\u001b[0m\u001b[0;34m)\u001b[0m\u001b[0;34m\u001b[0m\u001b[0;34m\u001b[0m\u001b[0m\n\u001b[0;32m----> 2\u001b[0;31m \u001b[0mtrailforks\u001b[0m\u001b[0;34m.\u001b[0m\u001b[0mparse\u001b[0m\u001b[0;34m(\u001b[0m\u001b[0;34m)\u001b[0m\u001b[0;34m\u001b[0m\u001b[0;34m\u001b[0m\u001b[0m\n\u001b[0m",
      "\u001b[0;32m~/.local/lib/python3.8/site-packages/newspaper/article.py\u001b[0m in \u001b[0;36mparse\u001b[0;34m(self)\u001b[0m\n\u001b[1;32m    189\u001b[0m \u001b[0;34m\u001b[0m\u001b[0m\n\u001b[1;32m    190\u001b[0m     \u001b[0;32mdef\u001b[0m \u001b[0mparse\u001b[0m\u001b[0;34m(\u001b[0m\u001b[0mself\u001b[0m\u001b[0;34m)\u001b[0m\u001b[0;34m:\u001b[0m\u001b[0;34m\u001b[0m\u001b[0;34m\u001b[0m\u001b[0m\n\u001b[0;32m--> 191\u001b[0;31m         \u001b[0mself\u001b[0m\u001b[0;34m.\u001b[0m\u001b[0mthrow_if_not_downloaded_verbose\u001b[0m\u001b[0;34m(\u001b[0m\u001b[0;34m)\u001b[0m\u001b[0;34m\u001b[0m\u001b[0;34m\u001b[0m\u001b[0m\n\u001b[0m\u001b[1;32m    192\u001b[0m \u001b[0;34m\u001b[0m\u001b[0m\n\u001b[1;32m    193\u001b[0m         \u001b[0mself\u001b[0m\u001b[0;34m.\u001b[0m\u001b[0mdoc\u001b[0m \u001b[0;34m=\u001b[0m \u001b[0mself\u001b[0m\u001b[0;34m.\u001b[0m\u001b[0mconfig\u001b[0m\u001b[0;34m.\u001b[0m\u001b[0mget_parser\u001b[0m\u001b[0;34m(\u001b[0m\u001b[0;34m)\u001b[0m\u001b[0;34m.\u001b[0m\u001b[0mfromstring\u001b[0m\u001b[0;34m(\u001b[0m\u001b[0mself\u001b[0m\u001b[0;34m.\u001b[0m\u001b[0mhtml\u001b[0m\u001b[0;34m)\u001b[0m\u001b[0;34m\u001b[0m\u001b[0;34m\u001b[0m\u001b[0m\n",
      "\u001b[0;32m~/.local/lib/python3.8/site-packages/newspaper/article.py\u001b[0m in \u001b[0;36mthrow_if_not_downloaded_verbose\u001b[0;34m(self)\u001b[0m\n\u001b[1;32m    529\u001b[0m             \u001b[0;32mraise\u001b[0m \u001b[0mArticleException\u001b[0m\u001b[0;34m(\u001b[0m\u001b[0;34m'You must `download()` an article first!'\u001b[0m\u001b[0;34m)\u001b[0m\u001b[0;34m\u001b[0m\u001b[0;34m\u001b[0m\u001b[0m\n\u001b[1;32m    530\u001b[0m         \u001b[0;32melif\u001b[0m \u001b[0mself\u001b[0m\u001b[0;34m.\u001b[0m\u001b[0mdownload_state\u001b[0m \u001b[0;34m==\u001b[0m \u001b[0mArticleDownloadState\u001b[0m\u001b[0;34m.\u001b[0m\u001b[0mFAILED_RESPONSE\u001b[0m\u001b[0;34m:\u001b[0m\u001b[0;34m\u001b[0m\u001b[0;34m\u001b[0m\u001b[0m\n\u001b[0;32m--> 531\u001b[0;31m             raise ArticleException('Article `download()` failed with %s on URL %s' %\n\u001b[0m\u001b[1;32m    532\u001b[0m                   (self.download_exception_msg, self.url))\n\u001b[1;32m    533\u001b[0m \u001b[0;34m\u001b[0m\u001b[0m\n",
      "\u001b[0;31mArticleException\u001b[0m: Article `download()` failed with 403 Client Error: Forbidden for url: https://www.trailforks.com/region/albuquerque/trails/ on URL https://www.trailforks.com/region/albuquerque/trails/"
     ]
    }
   ],
   "source": [
    "# trailforks.download()\n",
    "# trailforks.parse()"
   ]
  },
  {
   "cell_type": "code",
   "execution_count": null,
   "metadata": {},
   "outputs": [],
   "source": []
  }
 ],
 "metadata": {
  "kernelspec": {
   "display_name": "Python 3",
   "language": "python",
   "name": "python3"
  },
  "language_info": {
   "codemirror_mode": {
    "name": "ipython",
    "version": 3
   },
   "file_extension": ".py",
   "mimetype": "text/x-python",
   "name": "python",
   "nbconvert_exporter": "python",
   "pygments_lexer": "ipython3",
   "version": "3.8.13"
  }
 },
 "nbformat": 4,
 "nbformat_minor": 4
}
