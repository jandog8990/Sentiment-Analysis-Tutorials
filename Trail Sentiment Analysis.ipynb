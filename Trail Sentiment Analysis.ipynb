{
 "cells": [
  {
   "cell_type": "code",
   "execution_count": 64,
   "metadata": {},
   "outputs": [
    {
     "name": "stderr",
     "output_type": "stream",
     "text": [
      "[nltk_data] Downloading package punkt to\n",
      "[nltk_data]     /home/jandogonzales/nltk_data...\n",
      "[nltk_data]   Package punkt is already up-to-date!\n"
     ]
    },
    {
     "data": {
      "text/plain": [
       "'\\nWill come back to this at a later point, Trailforks blocks access\\nto the login and authentication. Notes for next time:\\n'"
      ]
     },
     "execution_count": 64,
     "metadata": {},
     "output_type": "execute_result"
    }
   ],
   "source": [
    "import nltk\n",
    "nltk.download('punkt')\n",
    "\n",
    "'''\n",
    "Will come back to this at a later point, Trailforks blocks access\n",
    "to the login and authentication. Notes for next time:\n",
    "\n",
    "1. Tried using BeautifulSoup and requests for basic login\n",
    "2. Tried using auth token and csrf\n",
    "3. Tried parsing the HTML to auto get the token csrf\n",
    "4. Found a recaptcha basic text that needs to be decoded\n",
    "'''"
   ]
  },
  {
   "cell_type": "code",
   "execution_count": 65,
   "metadata": {},
   "outputs": [
    {
     "name": "stdout",
     "output_type": "stream",
     "text": [
      "MTB Article\n",
      "<newspaper.article.Article object at 0x7f79929fdc40>\n"
     ]
    }
   ],
   "source": [
    "# Import MTB project article\n",
    "from newspaper import Article\n",
    "article1 = 'https://www.mtbproject.com/trail/912234/king-of-the-mountain-golden-eagle-loop'\n",
    "article2 = 'https://www.trailforks.com/trails/powerline-north-81255/'\n",
    "mtb_article = Article(article1)\n",
    "print('MTB Article')\n",
    "print(mtb_article)\n",
    "\n",
    "# download and parse mtb articles\n",
    "mtb_article.download()\n",
    "mtb_article.parse()"
   ]
  },
  {
   "cell_type": "code",
   "execution_count": 9,
   "metadata": {},
   "outputs": [
    {
     "data": {
      "text/plain": [
       "'Singletrack switchbacks is what you\\'re in for. The trail tends to be narrower and smooth when in the open area where the ski runs are and wider and more technical in the trees. At the top, take the time to pedal up and look out over the city from the actual Sandia Crest. Most of the descent is fast with banked corners, though beware of the soft sand on the outer edges as you exit the corners especially when it\\'s been dry.\\n\\nIf the ski area parking is closed, park on the road and ride into the lot, otherwise start by riding to the northern end of the lot and up the dirt road that loops back to the south. Take the signed singletrack on the right a short ways up for \" King of the Mountain \", Falcon Ridge and another trail. Follow this through grassy switchbacks occasionally moving from one ski run to another. Eventually take another right, this one signed for \" King of the Mountain \" (King), at this point the climb begins to get more interesting.Through the middle portion of the climb you\\'ll end up in the trees and are faced with rocks and roots in the corners. There are several technical sections, some on short downhills, that feature big rock ledges and roots or very narrow lines. The upper bit of the climb smooths out again and you eventually come out on a short section of dirt road to get up to the top of one of the lifts.This is a great place to pedal up to the crest and look out over the city or have a burger at the High Finance restaurant.Continue past the lift and around the ski patrol shed to pick up the Golden Eagle trail. This trail descends almost the whole way, though there are a couple of short uphill spots and few longer flat sections that require pedaling. There is not much beyond controlling your speed and the chop from other riders breaking into corners to challenge the rider. There will be several times that you cross trails and service roads on the descent, just stay straight on the singletrack.'"
      ]
     },
     "execution_count": 9,
     "metadata": {},
     "output_type": "execute_result"
    }
   ],
   "source": [
    "# mtb article and metadata/data\n",
    "mtb_article.html\n",
    "mtb_article.authors\n",
    "mtb_article.publish_date\n",
    "mtb_article.text"
   ]
  },
  {
   "cell_type": "code",
   "execution_count": 13,
   "metadata": {},
   "outputs": [],
   "source": [
    "# Tokenize the MTB article into individual words"
   ]
  },
  {
   "cell_type": "code",
   "execution_count": 49,
   "metadata": {},
   "outputs": [
    {
     "name": "stdout",
     "output_type": "stream",
     "text": [
      "<Browser visiting https://www.strava.com/login\n",
      " selected form:\n",
      " <post https://www.strava.com/session application/x-www-form-urlencoded\n",
      "  <HiddenControl(utf8=✓) (readonly)>\n",
      "  <HiddenControl(authenticity_token=F2giGRlPH5m7EiA5UPT7MyxoRMH2spi2de8wLu7p/akTFUMOeKvSNcprcItezyiW2Bn+RM+4LcLR340pORHkmA==) (readonly)>\n",
      "  <HiddenControl(plan=) (readonly)>\n",
      "  <TextControl(email=)>\n",
      "  <PasswordControl(password=)>\n",
      "  <CheckboxControl(remember_me=[on])>\n",
      "  <SubmitButtonControl(<None>=) (readonly)>>\n",
      ">\n"
     ]
    }
   ],
   "source": [
    "import mechanize\n",
    "from bs4 import BeautifulSoup\n",
    "import urllib3\n",
    "import http.cookiejar\n",
    "\n",
    "# login sites\n",
    "site1 = \"https://id.arduino.cc/auth/login/\"\n",
    "site2 = \"https://trailforks.com/login/\"\n",
    "site3 = \"https://www.strava.com/login\"\n",
    "\n",
    "cj = http.cookiejar.CookieJar()\n",
    "br = mechanize.Browser()\n",
    "br.set_cookiejar(cj)\n",
    "br.open(site3)\n",
    "\n",
    "br.select_form(nr=0)\n",
    "print(br)\n",
    "\n",
    "<input type=\"text\" name=\"username-login-loginlen\" size=\"30\" id=\"username\" autofocus=\"autofocus\" placeholder=\"email or username\" class=\"larger rounded\" style=\"width:100%\" value=\"\">\n",
    "<input type=\"password\" name=\"password-password-lt200\" size=\"30\" value=\"\" id=\"password\" placeholder=\"password\" class=\"larger rounded\" style=\"width:100%\">\n",
    "\n",
    "<input type=\"email\" class=\"Input--input--19CTT RegistrationInput--textInput--zLJDS\" id=\"loh-email\" data-cy=\"email\" name=\"email\" placeholder=\"Enter email\" autocomplete=\"username\">\n",
    "<input type=\"password\" class=\"Input--input--19CTT\" id=\"loh-new-password\" data-cy=\"password\" name=\"password\" placeholder=\"Create a password\" autocomplete=\"new-password\">"
   ]
  },
  {
   "cell_type": "code",
   "execution_count": 60,
   "metadata": {},
   "outputs": [
    {
     "name": "stdout",
     "output_type": "stream",
     "text": [
      "<Response [403]>\n"
     ]
    }
   ],
   "source": [
    "from bs4 import BeautifulSoup as bs\n",
    "import requests\n",
    "stravaLogin = \"https://www.strava.com/login\"\n",
    "trailforksLogin = \"https://www.trailforks.com/login\"\n",
    "trailforksAuth = \"https://www.trailforks.com/wosFormCheck.php\"\n",
    "\n",
    "# cookies and other credentials\n",
    "cookie = 'pbid2=050fed3fe6b6420fadb0d0e250435d8b; ajs_anonymous_id=76f52744-ba75-42b7-aac0-e9b408bce600; _fbp=fb.1.1684201518482.632042561; _meta_metarouter_timezone_offset=360; _gcl_au=1.1.1744960387.1684201519; ajs_user_id=43c7a570-048a-40a6-b6d4-a002cbbfe473; afUserId=17df9082-d023-4e16-ac61-b4589f243045-p; tour_trail_detail_step=0; tf_signup_shown=1; __privaci_cookie_consent_uuid=32b8265a-9fa8-492b-b7fe-97586f5f5e4a:3; __privaci_cookie_consent_generated=32b8265a-9fa8-492b-b7fe-97586f5f5e4a:3; __privaci_cookie_consents={\"consents\":{\"175\":1,\"176\":1,\"177\":1,\"178\":1},\"location\":\"NM#US\",\"lang\":\"en\",\"gpcInBrowserOnConsent\":false,\"gpcStatusInPortalOnConsent\":false,\"status\":\"record-consent-success\",\"implicit_consent\":false}; privacyRequest=NM; AF_SYNC=1687183348363; __stripe_mid=24189730-83df-4dbb-a402-9fc92d88b33fe28cad; homecount=2; hidewelcome=1; _meta_facebookTag_sync=1687372276453; pb2=wN8Rq2ebnwtfc7oMbvtbOzzS1S; tfs=659; __cf_bm=Rss1PC1qEkNoVV8xWVQwJGIa8bxkOGMi9y2r7VuHrWg-1687632916-0-AZegcFBfQtnJ8yVGXWecAq7I70R0mC+U+s3HGjDi4TbaQznFlFewX6fpReuEFEdmXPbixjBo0mxjxoNpCkX6xCg=; _gid=GA1.2.511528795.1687632916; _gat_gtag_UA_2380007_4=1; _meta_metarouter_sessionID=1687632916553; _gat_gtag_UA_116127418_7=1; _ga_H3Q0X2JJ93=GS1.1.1687632915.16.1.1687632917.0.0.0; _ga=GA1.1.1928614829.1684201519; g_state={\"i_l\":2,\"i_p\":1687719324940}'\n",
    "recaptcha_textbasic = '03AL8dmw-ipA-4Maz8FQ1skuv6sE7EYIoQZkQsUWU8s5mSK8oM-gQjl2__XrSAm1uaovn1_wKEYuFCZqMg9Ssv9tX0R5FXk2eoDYb79INJnuCmJuPyT12zb87tIbDw_nYXLsK0exyxSr1n_SiH88SIyyTEZkO8OhLRpnuMtHAFZUJQWqnUMlYxEiQOTeaUkg9oJyTrd7C4Vqoou3CD1j5trAlVktBlPECh35W5JhLo4s4V-cPGtVQM_U0w2uIOi_Kqnyf3SAIvHFK9RfQr-kR4gPRH7vSNOzRkTSFUxPWZyANPzX9zL6OiYdVsBQsRWDHefGC1d8CVDAeZaJNldWIrY3mqv6WgHX1PVF2yq3JzJgTxpqgktBI5PhsSV4ip4zekIlAw3scQCy6N7j6WmbX1ErOIdY30WyK8Uz-bb-G4eDc64n_PGiT-OXdXQUKyRsBIRKIz7tBi6-Uti-1_efW0aEfFKkx2k6acw4lO35ZkckAKOFR9CvoI9x2W1PUMFaLL-EVMW084Do46PatOT-CT7oRALNgfwDXEeA'\n",
    "formhash = '4iiEcKbbYHXfEkMaNq61li7LD8ecWgrttZ8d0XMOLp2LAgfef7Xm6qui18WuUu4AKrldPm1ziEAuBrTYEdSUjiigK/K6kn2dg3IEAU4ul4LPYC0i6jlNMt8v9DBoMFRT/Jmu5iyJB3OlIodpT4153vdM6Yi8H6HQUVXV1RDM5ItXyhvomN0lvrBCyIunSWATXfopvhlQooV0uzrkROp8ZAHM'\n",
    "\n",
    "payload1 = {\n",
    "    'email': 'jandog8990@gmail.com',\n",
    "    'password': 'Scratch_4475'\n",
    "}\n",
    "\n",
    "payload2 = {\n",
    "    'username-login-loginlen': 'jandog8990@gmail.com',\n",
    "    'password-password-lt200': 'Scratch_4475'\n",
    "}\n",
    "\n",
    "payload3 = {\n",
    "    'username': 'jandog8990@gmail.com',\n",
    "    'password': 'Scratch_4475'\n",
    "}\n",
    "\n",
    "s = requests.session()\n",
    "response = s.post(trailforksLogin, data=payload3)\n",
    "print(response)\n",
    "\n",
    "# with requests.Session() as s:\n",
    "#     print(\"Trailforks login:\")\n",
    "#     print(trailforksLogin)\n",
    "#     print(payload2)\n",
    "#     p = s.post(trailforksLogin, data=payload2)\n",
    "#     print(p.text)\n"
   ]
  },
  {
   "cell_type": "code",
   "execution_count": 63,
   "metadata": {},
   "outputs": [
    {
     "name": "stdout",
     "output_type": "stream",
     "text": [
      "<!DOCTYPE html>\n",
      "\n",
      "<html lang=\"en-US\">\n",
      "<head>\n",
      "<title>Access denied</title>\n",
      "<meta content=\"IE=Edge\" http-equiv=\"X-UA-Compatible\"/>\n",
      "<meta content=\"noindex, nofollow\" name=\"robots\"/>\n",
      "<meta content=\"width=device-width,initial-scale=1\" name=\"viewport\"/>\n",
      "<link href=\"/cdn-cgi/styles/errors.css\" media=\"screen\" rel=\"stylesheet\"/>\n",
      "<script>\n",
      "(function(){if(document.addEventListener&&window.XMLHttpRequest&&JSON&&JSON.stringify){var e=function(a){var c=document.getElementById(\"error-feedback-survey\"),d=document.getElementById(\"error-feedback-success\"),b=new XMLHttpRequest;a={event:\"feedback clicked\",properties:{errorCode:1020,helpful:a,version:5}};b.open(\"POST\",\"https://sparrow.cloudflare.com/api/v1/event\");b.setRequestHeader(\"Content-Type\",\"application/json\");b.setRequestHeader(\"Sparrow-Source-Key\",\"c771f0e4b54944bebf4261d44bd79a1e\");\n",
      "b.send(JSON.stringify(a));c.classList.add(\"feedback-hidden\");d.classList.remove(\"feedback-hidden\")};document.addEventListener(\"DOMContentLoaded\",function(){var a=document.getElementById(\"error-feedback\"),c=document.getElementById(\"feedback-button-yes\"),d=document.getElementById(\"feedback-button-no\");\"classList\"in a&&(a.classList.remove(\"feedback-hidden\"),c.addEventListener(\"click\",function(){e(!0)}),d.addEventListener(\"click\",function(){e(!1)}))})}})();\n",
      "</script>\n",
      "<script>\n",
      "      (function(){function d(c){var b=document.getElementById(\"copy-label\"),a=document.getElementById(\"cf-details-wrapper-expandable\");c.target.checked?a.classList.add(\"expanded\"):(a.classList.remove(\"expanded\"),b.innerText=\"Click to copy\")}if(document.addEventListener){var e=function(){var c=document.getElementById(\"copy-label\");var b=document.getElementById(\"error-details\").textContent;if(navigator.clipboard)navigator.clipboard.writeText(b);else{var a=document.createElement(\"textarea\");a.value=b;a.style.top=\"0\";a.style.left=\"0\";a.style.position=\"fixed\";document.body.appendChild(a);a.focus();a.select();document.execCommand(\"copy\");document.body.removeChild(a)}c.innerText=\"Copied text to clipboard\"};document.addEventListener(\"DOMContentLoaded\",function(){var c=document.getElementById(\"error-details-checkbox\"),b=document.getElementById(\"click-to-copy-btn\");document.getElementById(\"copy-label\").classList.remove(\"hidden\");c.addEventListener(\"change\",d);b.addEventListener(\"click\",e)})}})();\n",
      "      </script>\n",
      "<script defer=\"\" src=\"https://performance.radar.cloudflare.com/beacon.js\"></script>\n",
      "</head>\n",
      "<body>\n",
      "<div class=\"cf-main-wrapper\" role=\"main\">\n",
      "<div class=\"cf-header cf-section\">\n",
      "<div class=\"cf-error-title\">\n",
      "<h1>Access denied</h1>\n",
      "<span class=\"cf-code-label\">Error code <span>1020</span></span>\n",
      "</div>\n",
      "<div class=\"cf-error-description\">\n",
      "<p>You do not have access to www.trailforks.com.</p><p>The site owner may have set restrictions that prevent you from accessing the site.</p>\n",
      "</div>\n",
      "</div>\n",
      "</div>\n",
      "<div class=\"cf-details-wrapper\">\n",
      "<div class=\"cf-section\" role=\"region\">\n",
      "<div class=\"cf-expandable\" id=\"cf-details-wrapper-expandable\">\n",
      "<label class=\"cf-expandable-btn\" for=\"error-details-checkbox\" title=\"Error details\">\n",
      "<p class=\"cf-dropdown-title\">Error details</p>\n",
      "<img alt=\"Caret icon\" class=\"cf-caret-icon\" id=\"caret-icon\" src=\"data:image/png;base64,iVBORw0KGgoAAAANSUhEUgAAACAAAAAgBAMAAACBVGfHAAAAElBMVEUAAAAwMDAxMTEyMjIwMDAxMTF+89HTAAAABXRSTlMAf2CAMKS61bwAAABTSURBVCjPzcq7DcAgFENR5zMATfo06TNCViAS+6+CeFi6gglw4eLqaPVtaQpXnkApaQT/k0dw70EAUhCA1AnABGACMAGYAEwAkCOAydv+I5xaZhXWbQrD80TkkQAAAABJRU5ErkJggg==\"/>\n",
      "</label>\n",
      "<input class=\"hidden\" id=\"error-details-checkbox\" type=\"checkbox\"/>\n",
      "<div class=\"cf-expandable-error-info hidden\">\n",
      "<p class=\"cf-error-copy-description\">Provide the site owner this information.</p>\n",
      "<button class=\"cf-click-to-copy-btn\" id=\"click-to-copy-btn\" title=\"Click to copy\" type=\"button\">\n",
      "<div class=\"cf-error-wrapper\" id=\"error-details\"><p class=\"cf-error-details-endpoint\">I got an error when visiting www.trailforks.com/wosFormCheck.php.</p>\n",
      "<p>Error code: 1020</p>\n",
      "<p>Ray ID: 7dc73f038d50290b</p>\n",
      "<p>Country: US</p>\n",
      "<p>Data center: den01</p>\n",
      "<p>IP: 98.60.57.185</p>\n",
      "<p>Timestamp: 2023-06-24 19:06:07 UTC</p>\n",
      "</div>\n",
      "<p class=\"cf-copy-label hidden\" id=\"copy-label\">Click to copy</p>\n",
      "</button>\n",
      "</div>\n",
      "</div>\n",
      "</div>\n",
      "<div class=\"clearfix cf-footer cf-section\" role=\"contentinfo\">\n",
      "<div class=\"cf-column\">\n",
      "<div class=\"feedback-hidden py-8 text-center\" id=\"error-feedback\">\n",
      "<div class=\"footer-line-wrapper\" id=\"error-feedback-survey\">\n",
      "        Was this page helpful?\n",
      "        <button class=\"border border-solid bg-white cf-button cursor-pointer ml-4 px-4 py-2 rounded\" id=\"feedback-button-yes\" type=\"button\">Yes</button>\n",
      "<button class=\"border border-solid bg-white cf-button cursor-pointer ml-4 px-4 py-2 rounded\" id=\"feedback-button-no\" type=\"button\">No</button>\n",
      "</div>\n",
      "<div class=\"feedback-success feedback-hidden\" id=\"error-feedback-success\">\n",
      "        Thank you for your feedback!\n",
      "    </div>\n",
      "</div>\n",
      "</div>\n",
      "<div class=\"cf-column cf-footer-line-wrapper text-center\">\n",
      "<p>\n",
      "               Performance &amp; security by <a href=\"https://www.cloudflare.com?utm_source=1020_error\" rel=\"noopener noreferrer\" target=\"_blank\">Cloudflare <img alt=\"External link\" class=\"external-link\" src=\"/cdn-cgi/images/external.png\" title=\"Opens in new tab\"/></a>\n",
      "</p>\n",
      "</div>\n",
      "</div>\n",
      "</div>\n",
      "</body>\n",
      "</html>\n",
      "\n"
     ]
    }
   ],
   "source": [
    "# Parse the form to get hidden and login fields\n",
    "from bs4 import BeautifulSoup\n",
    "import requests\n",
    "trailforksAuth = \"https://www.trailforks.com/wosFormCheck.php\"\n",
    "username = 'jandog8990@gmail.com',\n",
    "password = 'Scratch_4475'\n",
    "\n",
    "# cookies and other credentials\n",
    "cookie = 'pbid2=050fed3fe6b6420fadb0d0e250435d8b; ajs_anonymous_id=76f52744-ba75-42b7-aac0-e9b408bce600; _fbp=fb.1.1684201518482.632042561; _meta_metarouter_timezone_offset=360; _gcl_au=1.1.1744960387.1684201519; ajs_user_id=43c7a570-048a-40a6-b6d4-a002cbbfe473; afUserId=17df9082-d023-4e16-ac61-b4589f243045-p; tour_trail_detail_step=0; tf_signup_shown=1; __privaci_cookie_consent_uuid=32b8265a-9fa8-492b-b7fe-97586f5f5e4a:3; __privaci_cookie_consent_generated=32b8265a-9fa8-492b-b7fe-97586f5f5e4a:3; __privaci_cookie_consents={\"consents\":{\"175\":1,\"176\":1,\"177\":1,\"178\":1},\"location\":\"NM#US\",\"lang\":\"en\",\"gpcInBrowserOnConsent\":false,\"gpcStatusInPortalOnConsent\":false,\"status\":\"record-consent-success\",\"implicit_consent\":false}; privacyRequest=NM; AF_SYNC=1687183348363; __stripe_mid=24189730-83df-4dbb-a402-9fc92d88b33fe28cad; homecount=2; hidewelcome=1; _meta_facebookTag_sync=1687372276453; pb2=wN8Rq2ebnwtfc7oMbvtbOzzS1S; tfs=659; __cf_bm=Rss1PC1qEkNoVV8xWVQwJGIa8bxkOGMi9y2r7VuHrWg-1687632916-0-AZegcFBfQtnJ8yVGXWecAq7I70R0mC+U+s3HGjDi4TbaQznFlFewX6fpReuEFEdmXPbixjBo0mxjxoNpCkX6xCg=; _gid=GA1.2.511528795.1687632916; _gat_gtag_UA_2380007_4=1; _meta_metarouter_sessionID=1687632916553; _gat_gtag_UA_116127418_7=1; _ga_H3Q0X2JJ93=GS1.1.1687632915.16.1.1687632917.0.0.0; _ga=GA1.1.1928614829.1684201519; g_state={\"i_l\":2,\"i_p\":1687719324940}'\n",
    "recaptcha_textbasic = '03AL8dmw-ipA-4Maz8FQ1skuv6sE7EYIoQZkQsUWU8s5mSK8oM-gQjl2__XrSAm1uaovn1_wKEYuFCZqMg9Ssv9tX0R5FXk2eoDYb79INJnuCmJuPyT12zb87tIbDw_nYXLsK0exyxSr1n_SiH88SIyyTEZkO8OhLRpnuMtHAFZUJQWqnUMlYxEiQOTeaUkg9oJyTrd7C4Vqoou3CD1j5trAlVktBlPECh35W5JhLo4s4V-cPGtVQM_U0w2uIOi_Kqnyf3SAIvHFK9RfQr-kR4gPRH7vSNOzRkTSFUxPWZyANPzX9zL6OiYdVsBQsRWDHefGC1d8CVDAeZaJNldWIrY3mqv6WgHX1PVF2yq3JzJgTxpqgktBI5PhsSV4ip4zekIlAw3scQCy6N7j6WmbX1ErOIdY30WyK8Uz-bb-G4eDc64n_PGiT-OXdXQUKyRsBIRKIz7tBi6-Uti-1_efW0aEfFKkx2k6acw4lO35ZkckAKOFR9CvoI9x2W1PUMFaLL-EVMW084Do46PatOT-CT7oRALNgfwDXEeA'\n",
    "formhash = '4iiEcKbbYHXfEkMaNq61li7LD8ecWgrttZ8d0XMOLp2LAgfef7Xm6qui18WuUu4AKrldPm1ziEAuBrTYEdSUjiigK/K6kn2dg3IEAU4ul4LPYC0i6jlNMt8v9DBoMFRT/Jmu5iyJB3OlIodpT4153vdM6Yi8H6HQUVXV1RDM5ItXyhvomN0lvrBCyIunSWATXfopvhlQooV0uzrkROp8ZAHM'\n",
    "\n",
    "with requests.session() as s:\n",
    "    req = s.get(trailforksAuth).text\n",
    "    html = BeautifulSoup(req, \"html.parser\")\n",
    "    print(html)"
   ]
  },
  {
   "cell_type": "code",
   "execution_count": 47,
   "metadata": {},
   "outputs": [
    {
     "name": "stdout",
     "output_type": "stream",
     "text": [
      "None\n"
     ]
    }
   ],
   "source": [
    "# robobrowswer login\n",
    "import re\n",
    "import werkzeug\n",
    "werkzeug.cached_property = werkzeug.utils.cached_property\n",
    "from robobrowser import RoboBrowser\n",
    "url1 = \"https://strava.com\"\n",
    "url2 = \"https://github.com\"\n",
    "browser = RoboBrowser(history=True)\n",
    "browser.open(url1)\n",
    "form = browser.get_form(action='/login/')\n",
    "print(form)\n",
    "# form[\"username\"] = 'jandog8990'\n",
    "# form[\"password\"] = 'Scratch_4475'\n",
    "# browser.session.headers['Referer'] = base_url\n",
    "# browser.submit_form(form)\n",
    "# print(str(browser.select))\n"
   ]
  },
  {
   "cell_type": "code",
   "execution_count": null,
   "metadata": {},
   "outputs": [],
   "source": []
  }
 ],
 "metadata": {
  "kernelspec": {
   "display_name": "Python 3",
   "language": "python",
   "name": "python3"
  },
  "language_info": {
   "codemirror_mode": {
    "name": "ipython",
    "version": 3
   },
   "file_extension": ".py",
   "mimetype": "text/x-python",
   "name": "python",
   "nbconvert_exporter": "python",
   "pygments_lexer": "ipython3",
   "version": "3.8.16"
  }
 },
 "nbformat": 4,
 "nbformat_minor": 4
}
